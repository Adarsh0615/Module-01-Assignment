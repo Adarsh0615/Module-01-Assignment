{
  "nbformat": 4,
  "nbformat_minor": 0,
  "metadata": {
    "colab": {
      "provenance": []
    },
    "kernelspec": {
      "name": "python3",
      "display_name": "Python 3"
    },
    "language_info": {
      "name": "python"
    }
  },
  "cells": [
    {
      "cell_type": "markdown",
      "source": [
        "##Assignment Questions and Answers"
      ],
      "metadata": {
        "id": "1uPSXUXzeyGM"
      }
    },
    {
      "cell_type": "markdown",
      "source": [
        "1. What is Python, and why is it popular\n",
        "  \n",
        "  -> Python is a high-level, easy-to-learn programming language known for its readable syntax and versatility. It is used in web development, data analysis, machine learning, automation, and more. Python popularity stems from its simplicity, large standard library, strong community support, and the vast ecosystem of third-party libraries, making it ideal for both beginners and professionals."
      ],
      "metadata": {
        "id": "FfiVjfI2fYOT"
      }
    },
    {
      "cell_type": "code",
      "execution_count": null,
      "metadata": {
        "id": "FPOr-JjYeWcP"
      },
      "outputs": [],
      "source": []
    },
    {
      "cell_type": "markdown",
      "source": [
        "2. What is an interpreter in Python?\n",
        "   \n",
        "   -> An interpreter in Python is a program that reads and executes Python code line by line, converting it into machine code at runtime. Unlike compiled languages, Python code doesn't need to be pre-compiled; it is directly executed by the interpreter."
      ],
      "metadata": {
        "id": "gx_BpdYbhCAN"
      }
    },
    {
      "cell_type": "markdown",
      "source": [
        "3. What are pre-defined keywords in Python?\n",
        "  \n",
        "  -> Pre-defined keywords in Python are reserved words that have special meaning and cannot be used as variable names. These keywords are part of the Python language syntax and define the structure of the language. Examples include if, else, while, for, def, class, import, and try. They help control the flow of the program and define functions, classes, and exceptions.\n",
        "\n",
        "\n",
        "\n"
      ],
      "metadata": {
        "id": "D1UkpGFZhOBi"
      }
    },
    {
      "cell_type": "markdown",
      "source": [
        "4. Can keywords be used as variable names?\n",
        "  \n",
        "  ->No, keywords cannot be used as variable names in Python, as they are reserved for special purposes in the language's syntax. Using a keyword as a variable name will result in a syntax error.\n",
        "\n",
        "\n",
        "\n"
      ],
      "metadata": {
        "id": "DdjDDNS6hcej"
      }
    },
    {
      "cell_type": "markdown",
      "source": [
        "5. What is mutability in Python?\n",
        "  \n",
        "  -> Mutability in Python refers to whether an object can be changed after it is created.\n",
        "  \n",
        "    'Mutable objects can be modified (e.g., lists, dictionaries, sets).'\n",
        ""
      ],
      "metadata": {
        "id": "Kb2w0B1WhshZ"
      }
    },
    {
      "cell_type": "markdown",
      "source": [
        "6. Why are lists mutable, but tuples are immutable?\n",
        "\n",
        "-> Lists are mutable in Python because they are designed to allow changes like adding, removing, or modifying elements. This flexibility makes lists useful for tasks where the data may change.\n",
        "\n",
        "Tuples, on the other hand, are immutable to provide safety and efficiency. Once created, their elements cannot be changed, which helps prevent accidental modification and allows them to be used as keys in dictionaries or stored in sets, which require immutability."
      ],
      "metadata": {
        "id": "wfLChtKsiHns"
      }
    },
    {
      "cell_type": "markdown",
      "source": [
        "7. What is the difference between “==” and “is” operators in Python?"
      ],
      "metadata": {
        "id": "M18IvdQ5iWdI"
      }
    },
    {
      "cell_type": "code",
      "source": [
        "a = [1, 2, 3]\n",
        "b = a\n",
        "print(a == b)  # True (same values)\n",
        "print(a is b)  # True (same object in memory)"
      ],
      "metadata": {
        "colab": {
          "base_uri": "https://localhost:8080/"
        },
        "id": "arMqoDFyimyi",
        "outputId": "d242f71d-5b2e-41ab-ca95-a91fc93e0823"
      },
      "execution_count": 3,
      "outputs": [
        {
          "output_type": "stream",
          "name": "stdout",
          "text": [
            "True\n",
            "True\n"
          ]
        }
      ]
    },
    {
      "cell_type": "markdown",
      "source": [
        "8. What are logical operators in Python?"
      ],
      "metadata": {
        "id": "EYi4bnz5jJru"
      }
    },
    {
      "cell_type": "code",
      "source": [
        "x = 5\n",
        "y = 10\n",
        "print(x < y and y > 5)  # True\n",
        "print(x > y or y > 5)   # True\n",
        "print(not (x > y))      # True"
      ],
      "metadata": {
        "colab": {
          "base_uri": "https://localhost:8080/"
        },
        "id": "gBxVIJPtjVRH",
        "outputId": "7e8ae044-9825-468a-df7c-f0f5851b72f1"
      },
      "execution_count": 4,
      "outputs": [
        {
          "output_type": "stream",
          "name": "stdout",
          "text": [
            "True\n",
            "True\n",
            "True\n"
          ]
        }
      ]
    },
    {
      "cell_type": "markdown",
      "source": [
        "9. What is type casting in Python?"
      ],
      "metadata": {
        "id": "d7f2ysf-jfW9"
      }
    },
    {
      "cell_type": "code",
      "source": [
        "x = 10.5\n",
        "y = int(x)  # Converts float to int\n",
        "print(y)  # Output: 10"
      ],
      "metadata": {
        "colab": {
          "base_uri": "https://localhost:8080/"
        },
        "id": "KEzVC1lejmhc",
        "outputId": "79f89ef5-9ed8-4d85-f6bd-35b19ae1ead1"
      },
      "execution_count": 5,
      "outputs": [
        {
          "output_type": "stream",
          "name": "stdout",
          "text": [
            "10\n"
          ]
        }
      ]
    },
    {
      "cell_type": "markdown",
      "source": [
        "10. What is the difference between implicit and explicit type casting?\n",
        "\n",
        "  -> The difference between implicit and explicit type casting in Python is:\n",
        "\n",
        "  Implicit type casting (or type coercion) is automatically done by Python when it converts a smaller data type to a larger one (e.g., from int to float) without the programmer’s intervention.\n",
        "\n",
        "Example: x = 5 + 3.2 (Python automatically converts 5 to 5.0).\n",
        "\n",
        "Explicit type casting requires the programmer to manually convert a data type using functions like int(), float(), or str().\n",
        "\n",
        "Example: x = int(3.7) (explicitly converts 3.7 to 3).\n",
        "\n",
        "\n"
      ],
      "metadata": {
        "id": "EUUVQjvbjukM"
      }
    },
    {
      "cell_type": "markdown",
      "source": [
        "11. What is the purpose of conditional statements in Python?"
      ],
      "metadata": {
        "id": "MH5ZSmAckDtw"
      }
    },
    {
      "cell_type": "code",
      "source": [
        "x = 10\n",
        "if x > 5:\n",
        "    print(\"Greater than 5\")\n",
        "else:\n",
        "    print(\"Less than or equal to 5\")"
      ],
      "metadata": {
        "colab": {
          "base_uri": "https://localhost:8080/"
        },
        "id": "C8FctTO9kOH7",
        "outputId": "36b53e14-e0ad-4c33-fa5f-907731be22c1"
      },
      "execution_count": 6,
      "outputs": [
        {
          "output_type": "stream",
          "name": "stdout",
          "text": [
            "Greater than 5\n"
          ]
        }
      ]
    },
    {
      "cell_type": "markdown",
      "source": [
        "12. How does the elif statement work?"
      ],
      "metadata": {
        "id": "MJ_sNiEskP_K"
      }
    },
    {
      "cell_type": "code",
      "source": [
        "x = 10\n",
        "if x > 15:\n",
        "    print(\"Greater than 15\")\n",
        "elif x > 5:\n",
        "    print(\"Greater than 5 but less than or equal to 15\")\n",
        "else:\n",
        "    print(\"5 or less\")"
      ],
      "metadata": {
        "colab": {
          "base_uri": "https://localhost:8080/"
        },
        "id": "m1vu7j9ykXzn",
        "outputId": "a90c1724-2e42-4f31-d03e-40f7094d1642"
      },
      "execution_count": 7,
      "outputs": [
        {
          "output_type": "stream",
          "name": "stdout",
          "text": [
            "Greater than 5 but less than or equal to 15\n"
          ]
        }
      ]
    },
    {
      "cell_type": "markdown",
      "source": [
        "13. What is the difference between for and while loops?\n",
        "\n",
        "  -> The difference between for and while loops in Python is:\n",
        "\n",
        "for loop: Used to iterate over a sequence (like a list, tuple, or range) a specific number of times. It is commonly used when the number of iterations is known in advance.\n",
        "\n",
        "while loop: Repeats a block of code as long as a given condition is True. It is used when the number of iterations is not known beforehand and depends on a condition."
      ],
      "metadata": {
        "id": "vCAQ2cAgkgVp"
      }
    },
    {
      "cell_type": "markdown",
      "source": [
        "14. What is the difference between for and while loops?\n",
        "  -> The difference between for and while loops:\n",
        "\n",
        "for loop: Iterates over a sequence (like a list or range) or executes a set number of times. The number of iterations is usually known in advance.\n",
        "\n",
        "Example: for i in range(5):\n",
        "\n",
        "while loop: Repeats as long as a condition is True. The number of iterations is not fixed and depends on the condition.\n",
        "\n",
        "Example: while x < 5:"
      ],
      "metadata": {
        "id": "uTi9JHDik_fO"
      }
    }
  ]
}